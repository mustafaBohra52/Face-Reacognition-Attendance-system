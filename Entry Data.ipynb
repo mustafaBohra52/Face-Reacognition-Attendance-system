{
 "cells": [
  {
   "cell_type": "code",
   "execution_count": null,
   "id": "cd919372",
   "metadata": {},
   "outputs": [
    {
     "name": "stdout",
     "output_type": "stream",
     "text": [
      "If you want to capture images click space button \n",
      "else click Esc button\n",
      "Enter your name to save image \n"
     ]
    }
   ],
   "source": [
    "import cv2\n",
    "\n",
    "cam = cv2.VideoCapture(0)\n",
    "#cv2.namedWindow(\"Webcam\")\n",
    "\n",
    "while True:\n",
    "    ret,frame=cam.read()\n",
    "    if not ret :\n",
    "        print(\"Camera Closed \")\n",
    "        break\n",
    "    cv2.imshow(\"Web\",frame)\n",
    "    print(\"If you want to capture images click space button \")\n",
    "    print(\"else click Esc button\")\n",
    "    print(\"Enter your name to save image \")\n",
    "    n=input(\"Enter the name : \")\n",
    "    print(\"********** Please press Space buton to save the picture **********\")\n",
    "    k=cv2.waitKey(0)\n",
    "    if k%256==27:\n",
    "        print(\"ESC it \")\n",
    "        break\n",
    "    elif k%256==32:\n",
    "        \n",
    "        n = \"{}.png\".format(n)\n",
    "        save = cv2.imwrite(n,frame)\n",
    "        print(\"image saved\")\n",
    "        \n",
    "    cam.release()\n",
    "    cv2.destroyAllWindows()\n"
   ]
  },
  {
   "cell_type": "code",
   "execution_count": null,
   "id": "ccb789e6",
   "metadata": {},
   "outputs": [],
   "source": []
  },
  {
   "cell_type": "code",
   "execution_count": null,
   "id": "0529dc5f",
   "metadata": {},
   "outputs": [],
   "source": []
  }
 ],
 "metadata": {
  "kernelspec": {
   "display_name": "Python 3",
   "language": "python",
   "name": "python3"
  },
  "language_info": {
   "codemirror_mode": {
    "name": "ipython",
    "version": 3
   },
   "file_extension": ".py",
   "mimetype": "text/x-python",
   "name": "python",
   "nbconvert_exporter": "python",
   "pygments_lexer": "ipython3",
   "version": "3.7.10"
  }
 },
 "nbformat": 4,
 "nbformat_minor": 5
}
