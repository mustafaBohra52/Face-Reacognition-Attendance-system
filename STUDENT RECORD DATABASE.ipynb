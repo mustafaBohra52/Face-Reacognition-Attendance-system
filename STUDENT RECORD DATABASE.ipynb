{
 "cells": [
  {
   "cell_type": "code",
   "execution_count": 3,
   "id": "5d68c3e3",
   "metadata": {},
   "outputs": [],
   "source": [
    "from sqlite3 import connect\n",
    "import re\n",
    "con = connect(\"Database_student.db\")\n",
    "x=con.cursor()\n",
    "#x.execute(\"CREATE TABLE STUDENTRECORD(ID NUMBER(3) PRIMARY KEY ,NAME VARCHAR(20),LAST_NAME VARCHAR(20),CLASS NUMBER(3),ADDRESS VARCHAR(50),EMAIL_ID VARCHAR(20));\")\n",
    "regex = r'\\b[A-Za-z0-9._%+-]+@[A-Za-z0-9.-]+\\.[A-Z|a-z]{2,}\\b' "
   ]
  },
  {
   "cell_type": "markdown",
   "id": "bda80f2b",
   "metadata": {},
   "source": [
    "# Database "
   ]
  },
  {
   "cell_type": "code",
   "execution_count": 5,
   "id": "0e9e5679",
   "metadata": {},
   "outputs": [
    {
     "name": "stdout",
     "output_type": "stream",
     "text": [
      "HOW MANY RECORD YOU WANT TO INSERT : 2\n",
      "id :1\n",
      "name :mustafa\n",
      "Last name : nahar\n",
      "Class :12\n",
      "Address of Student : pune\n",
      "Email Id :abc@gmail.com\n",
      "Valid Email\n",
      "Photo : abc/abc.png\n",
      "id :2\n",
      "name :raza\n",
      "Last name : abc\n",
      "Class :12\n",
      "Address of Student : pune\n",
      "Email Id :abc1@gmail.com\n",
      "Valid Email\n",
      "Photo : ahbc/abgc.png\n"
     ]
    },
    {
     "ename": "IntegrityError",
     "evalue": "UNIQUE constraint failed: STUDENTRECORD.ID",
     "output_type": "error",
     "traceback": [
      "\u001b[1;31m---------------------------------------------------------------------------\u001b[0m",
      "\u001b[1;31mIntegrityError\u001b[0m                            Traceback (most recent call last)",
      "\u001b[1;32m<ipython-input-5-1e3d229fad36>\u001b[0m in \u001b[0;36m<module>\u001b[1;34m\u001b[0m\n\u001b[0;32m     15\u001b[0m         \u001b[0ms_pic\u001b[0m\u001b[1;33m=\u001b[0m\u001b[0minput\u001b[0m\u001b[1;33m(\u001b[0m\u001b[1;34m\"Photo : \"\u001b[0m\u001b[1;33m)\u001b[0m\u001b[1;33m\u001b[0m\u001b[1;33m\u001b[0m\u001b[0m\n\u001b[0;32m     16\u001b[0m         \u001b[0mdata\u001b[0m \u001b[1;33m=\u001b[0m \u001b[1;33m(\u001b[0m\u001b[0ms_id\u001b[0m\u001b[1;33m,\u001b[0m\u001b[0ms_name\u001b[0m\u001b[1;33m,\u001b[0m\u001b[0ms_last\u001b[0m\u001b[1;33m,\u001b[0m\u001b[0ms_class\u001b[0m\u001b[1;33m,\u001b[0m\u001b[0ms_Add\u001b[0m\u001b[1;33m,\u001b[0m\u001b[0ms_Email\u001b[0m\u001b[1;33m,\u001b[0m\u001b[0ms_pic\u001b[0m\u001b[1;33m)\u001b[0m\u001b[1;33m\u001b[0m\u001b[1;33m\u001b[0m\u001b[0m\n\u001b[1;32m---> 17\u001b[1;33m         \u001b[0mx\u001b[0m\u001b[1;33m.\u001b[0m\u001b[0mexecute\u001b[0m\u001b[1;33m(\u001b[0m\u001b[1;34m\"INSERT INTO STUDENTRECORD VALUES(?,?,?,?,?,?,?);\"\u001b[0m\u001b[1;33m,\u001b[0m\u001b[0mdata\u001b[0m\u001b[1;33m)\u001b[0m\u001b[1;33m\u001b[0m\u001b[1;33m\u001b[0m\u001b[0m\n\u001b[0m\u001b[0;32m     18\u001b[0m         \u001b[0mcon\u001b[0m\u001b[1;33m.\u001b[0m\u001b[0mcommit\u001b[0m\u001b[1;33m(\u001b[0m\u001b[1;33m)\u001b[0m\u001b[1;33m\u001b[0m\u001b[1;33m\u001b[0m\u001b[0m\n\u001b[0;32m     19\u001b[0m     \u001b[0mn\u001b[0m\u001b[1;33m=\u001b[0m\u001b[0minput\u001b[0m\u001b[1;33m(\u001b[0m\u001b[1;34m\"u Want to insert data y/n : \"\u001b[0m\u001b[1;33m)\u001b[0m\u001b[1;33m\u001b[0m\u001b[1;33m\u001b[0m\u001b[0m\n",
      "\u001b[1;31mIntegrityError\u001b[0m: UNIQUE constraint failed: STUDENTRECORD.ID"
     ]
    }
   ],
   "source": [
    "\n",
    "while True:\n",
    "    f=int(input(\"HOW MANY RECORD YOU WANT TO INSERT : \"))\n",
    "    for i in range(f):\n",
    "        s_id=int(input(\"id :\"))\n",
    "        s_name=input(\"name :\")\n",
    "        s_last=input(\"Last name : \")\n",
    "        s_class=int(input(\"Class :\"))\n",
    "        s_Add=input(\"Address of Student : \")\n",
    "        s_Email=input(\"Email Id :\")\n",
    "        if(re.match(regex, s_Email)):\n",
    "            print(\"Valid Email\")\n",
    "        else:\n",
    "            print(\"Invalid Email\")\n",
    "            continue\n",
    "        s_pic=input(\"Photo : \")\n",
    "        data = (s_id,s_name,s_last,s_class,s_Add,s_Email,s_pic)\n",
    "        x.execute(\"INSERT INTO STUDENTRECORD VALUES(?,?,?,?,?,?,?);\",data)\n",
    "        con.commit()\n",
    "    n=input(\"u Want to insert data y/n : \")\n",
    "    if n=='y':\n",
    "        continue\n",
    "    else:\n",
    "        break\n",
    "        \n",
    "show=input(\"You want to show the records y/n : \")\n",
    "x.execute(\"SELECT * FROM STUDENTRECORD;\")\n",
    "data = x.fetchall() \n",
    "for record in data:\n",
    "    print(record)"
   ]
  },
  {
   "cell_type": "code",
   "execution_count": null,
   "id": "6ebe1a99",
   "metadata": {},
   "outputs": [],
   "source": []
  }
 ],
 "metadata": {
  "kernelspec": {
   "display_name": "Python 3",
   "language": "python",
   "name": "python3"
  },
  "language_info": {
   "codemirror_mode": {
    "name": "ipython",
    "version": 3
   },
   "file_extension": ".py",
   "mimetype": "text/x-python",
   "name": "python",
   "nbconvert_exporter": "python",
   "pygments_lexer": "ipython3",
   "version": "3.7.10"
  }
 },
 "nbformat": 4,
 "nbformat_minor": 5
}
